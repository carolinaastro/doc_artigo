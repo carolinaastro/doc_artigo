{
 "cells": [
  {
   "cell_type": "code",
   "execution_count": 12,
   "metadata": {
    "collapsed": true
   },
   "outputs": [],
   "source": [
    "import numpy as np\n",
    "import scipy\n",
    "import pywt\n",
    "data = scipy.loadtxt('/home/usuario/Dropbox/Documents/tRABALHO/Wavelets/Huya/Huya.dat')\n"
   ]
  },
  {
   "cell_type": "code",
   "execution_count": 13,
   "metadata": {
    "collapsed": true
   },
   "outputs": [],
   "source": [
    "#xiis= 2.0 * (data[:,0] + 0.375)**0.5\n",
    "y = -0.375+ ((data[:,1]/2)*(data[:,1]/2))"
   ]
  },
  {
   "cell_type": "code",
   "execution_count": 14,
   "metadata": {
    "collapsed": false
   },
   "outputs": [],
   "source": [
    "np.savetxt('transformada_Huya.txt', np.array([data[:,0], y]).T, fmt=\"%.6f\", delimiter='    ')"
   ]
  },
  {
   "cell_type": "code",
   "execution_count": 15,
   "metadata": {
    "collapsed": false
   },
   "outputs": [],
   "source": [
    "import matplotlib.pyplot as plt\n",
    "import pylab\n",
    "pylab.ylim(-0.5,1.83)\n",
    "pylab.xlim(1.45,2.4)\n",
    "pylab.grid(True)\n",
    "figura = plt.plot(data[:,0], y, color = 'red', label='Transformado')\n",
    "tentativa = plt.plot(data[:,0], data[:,1], color ='blue', label = 'Original')\n",
    "pylab.legend(loc='best')\n",
    "plt.savefig('trans.pdf')\n",
    "plt.show()\n"
   ]
  },
  {
   "cell_type": "code",
   "execution_count": 22,
   "metadata": {
    "collapsed": false
   },
   "outputs": [
    {
     "name": "stdout",
     "output_type": "stream",
     "text": [
      "6\n"
     ]
    }
   ],
   "source": [
    "wvlgth = data[:,0]\n",
    "f = y\n",
    "\n",
    "wav = 'coif4'\n",
    "escalas = pywt.dwt_max_level(len(f),pywt.Wavelet(wav).dec_len)\n",
    "print escalas\n",
    "escalas=6\n",
    "decomp = pywt.wavedec(f,wav,level=escalas)\n",
    "pylab.figure(3)\n",
    "for i in range(escalas+1):\n",
    "    pylab.subplot(escalas+1,1,i+1)\n",
    "    pylab.plot(decomp[i])\n",
    "    pylab.xlabel('Coefficients')\n",
    "    if i==0:\n",
    "        pylab.ylabel('Average (s='+str(escalas)+')')\n",
    "    else:\n",
    "        pylab.ylabel('Details (s='+str(escalas-i+1)+')')\n",
    "        \n",
    "pylab.show()        "
   ]
  },
  {
   "cell_type": "code",
   "execution_count": 28,
   "metadata": {
    "collapsed": false
   },
   "outputs": [],
   "source": [
    "import matplotlib"
   ]
  },
  {
   "cell_type": "code",
   "execution_count": 34,
   "metadata": {
    "collapsed": false
   },
   "outputs": [
    {
     "name": "stdout",
     "output_type": "stream",
     "text": [
      "0.199452440444 0.050913791928\n"
     ]
    }
   ],
   "source": [
    "det1 = decomp[-1]\n",
    "sigma = scipy.median(abs(det1))/0.6745\n",
    "thresh = sigma*scipy.sqrt(2*scipy.log(len(f)))\n",
    "print thresh,sigma\n",
    "# ###\n",
    "# \n",
    "decompclean = []\n",
    "decompclean.append(decomp[0])\n",
    "aux = decomp[i]\n",
    "for i in range(1,len(decomp)):\n",
    "    decompclean.append(pywt._thresholding.hard(decomp[i],thresh))\n",
    "fclean = pywt.waverec(decompclean,wav)\n",
    "pylab.figure(5)\n",
    "pylab.subplot(2,1,1)\n",
    "matplotlib.rcParams.update({'font.size': 26})\n",
    "pylab.xlim(1.45,2.45)\n",
    "pylab.ylim(-0.5,0.5)\n",
    "pylab.plot(wvlgth,fclean, linewidth = 2, label = 'Huya')\n",
    "pylab.xlabel('$\\lambda (\\mu m)$')\n",
    "pylab.ylabel('Fluxo limpo')\n",
    "pylab.legend(loc='best')\n",
    "pylab.grid(True)\n",
    "pylab.title('Hard thresholding')\n",
    "pylab.subplot(2,1,2)\n",
    "matplotlib.rcParams.update({'font.size': 26})\n",
    "pylab.xlim(1.45,2.45)\n",
    "pylab.ylim(-0.2,0.2)\n",
    "pylab.plot(wvlgth,f-fclean, linewidth = 2, label= 'Residuo')\n",
    "pylab.grid(True)\n",
    "pylab.xlabel('$\\lambda (\\mu m)$')\n",
    "pylab.ylabel('Difference')\n",
    "pylab.legend(loc='best')\n",
    "plt.savefig('Huya_coif4scal6.pdf')\n",
    "pylab.show()\n",
    "\n",
    "np.savetxt('Huya.txt', np.array([data[:,0], fclean]).T, fmt=\"%.6f\", delimiter='    ')\n"
   ]
  },
  {
   "cell_type": "code",
   "execution_count": null,
   "metadata": {
    "collapsed": true
   },
   "outputs": [],
   "source": []
  }
 ],
 "metadata": {
  "kernelspec": {
   "display_name": "Python 2",
   "language": "python",
   "name": "python2"
  },
  "language_info": {
   "codemirror_mode": {
    "name": "ipython",
    "version": 2
   },
   "file_extension": ".py",
   "mimetype": "text/x-python",
   "name": "python",
   "nbconvert_exporter": "python",
   "pygments_lexer": "ipython2",
   "version": "2.7.11"
  }
 },
 "nbformat": 4,
 "nbformat_minor": 0
}
