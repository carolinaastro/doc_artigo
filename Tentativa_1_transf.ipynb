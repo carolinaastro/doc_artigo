{
 "cells": [
  {
   "cell_type": "code",
   "execution_count": 1,
   "metadata": {
    "collapsed": true
   },
   "outputs": [],
   "source": [
    "import numpy as np\n",
    "import scipy\n",
    "import pywt\n",
    "data = scipy.loadtxt('/home/usuario/Dropbox/Documents/tRABALHO/Wavelets/Haumea/Haumea.dat')\n"
   ]
  },
  {
   "cell_type": "code",
   "execution_count": 2,
   "metadata": {
    "collapsed": true
   },
   "outputs": [],
   "source": [
    "#xiis= 2.0 * (data[:,0] + 0.375)**0.5\n",
    "y = -0.375+ ((data[:,1]/2)*(data[:,1]/2))"
   ]
  },
  {
   "cell_type": "code",
   "execution_count": 3,
   "metadata": {
    "collapsed": false
   },
   "outputs": [],
   "source": [
    "np.savetxt('transformada_Haumea.txt', np.array([data[:,0], y]).T, fmt=\"%.6f\", delimiter='    ')"
   ]
  },
  {
   "cell_type": "code",
   "execution_count": 4,
   "metadata": {
    "collapsed": false
   },
   "outputs": [],
   "source": [
    "y = -0.375+ ((data[:,1]/2)*(data[:,1]/2))\n",
    "\n",
    "import matplotlib.pyplot as plt\n",
    "import pylab\n",
    "pylab.ylim(-0.5,1.83)\n",
    "pylab.xlim(1.45,2.4)\n",
    "pylab.grid(True)\n",
    "figura = plt.plot(data[:,0], y, color = 'red', label='Transformado')\n",
    "tentativa = plt.plot(data[:,0], data[:,1], color ='blue', label = 'Original')\n",
    "pylab.legend(loc='best')\n",
    "plt.savefig('trans.pdf')\n",
    "plt.show()\n"
   ]
  },
  {
   "cell_type": "code",
   "execution_count": 5,
   "metadata": {
    "collapsed": false
   },
   "outputs": [
    {
     "name": "stdout",
     "output_type": "stream",
     "text": [
      "6\n"
     ]
    }
   ],
   "source": [
    "wvlgth = data[:,0]\n",
    "f = data[:,1]\n",
    "\n",
    "wav = 'coif3'\n",
    "escalas = pywt.dwt_max_level(len(f),pywt.Wavelet(wav).dec_len)\n",
    "print escalas\n",
    "escalas=3\n",
    "decomp = pywt.wavedec(f,wav,level=escalas)\n",
    "pylab.figure(3)\n",
    "for i in range(escalas+1):\n",
    "    pylab.subplot(escalas+1,1,i+1)\n",
    "    pylab.plot(decomp[i])\n",
    "    pylab.xlabel('Coefficients')\n",
    "    if i==0:\n",
    "        pylab.ylabel('Average (s='+str(escalas)+')')\n",
    "    else:\n",
    "        pylab.ylabel('Details (s='+str(escalas-i+1)+')')\n",
    "        \n",
    "pylab.show()        "
   ]
  },
  {
   "cell_type": "code",
   "execution_count": 6,
   "metadata": {
    "collapsed": false
   },
   "outputs": [],
   "source": [
    "frec = pywt.waverec(decomp,wav)\n",
    "pylab.figure(4)\n",
    "pylab.subplot(2,1,1)\n",
    "pylab.plot(wvlgth,frec)\n",
    "pylab.xlabel('Time')\n",
    "pylab.ylabel('Reconstructed signal')\n",
    "pylab.subplot(2,1,2)\n",
    "pylab.plot(wvlgth,f-frec)\n",
    "pylab.xlabel('Time')\n",
    "pylab.ylabel('Difference')\n",
    "pylab.show()"
   ]
  },
  {
   "cell_type": "code",
   "execution_count": 9,
   "metadata": {
    "collapsed": false
   },
   "outputs": [
    {
     "name": "stdout",
     "output_type": "stream",
     "text": [
      "0.216649960527 0.0553037655841\n"
     ]
    },
    {
     "ename": "NameError",
     "evalue": "name 't' is not defined",
     "output_type": "error",
     "traceback": [
      "\u001b[1;31m---------------------------------------------------------------------------\u001b[0m",
      "\u001b[1;31mNameError\u001b[0m                                 Traceback (most recent call last)",
      "\u001b[1;32m<ipython-input-9-b669d1edcf4b>\u001b[0m in \u001b[0;36m<module>\u001b[1;34m()\u001b[0m\n\u001b[0;32m     13\u001b[0m \u001b[0mpylab\u001b[0m\u001b[1;33m.\u001b[0m\u001b[0mfigure\u001b[0m\u001b[1;33m(\u001b[0m\u001b[1;36m5\u001b[0m\u001b[1;33m)\u001b[0m\u001b[1;33m\u001b[0m\u001b[0m\n\u001b[0;32m     14\u001b[0m \u001b[0mpylab\u001b[0m\u001b[1;33m.\u001b[0m\u001b[0msubplot\u001b[0m\u001b[1;33m(\u001b[0m\u001b[1;36m2\u001b[0m\u001b[1;33m,\u001b[0m\u001b[1;36m2\u001b[0m\u001b[1;33m,\u001b[0m\u001b[1;36m1\u001b[0m\u001b[1;33m)\u001b[0m\u001b[1;33m\u001b[0m\u001b[0m\n\u001b[1;32m---> 15\u001b[1;33m \u001b[0mpylab\u001b[0m\u001b[1;33m.\u001b[0m\u001b[0mplot\u001b[0m\u001b[1;33m(\u001b[0m\u001b[0mt\u001b[0m\u001b[1;33m,\u001b[0m\u001b[0mfclean\u001b[0m\u001b[1;33m)\u001b[0m\u001b[1;33m\u001b[0m\u001b[0m\n\u001b[0m\u001b[0;32m     16\u001b[0m \u001b[0mpylab\u001b[0m\u001b[1;33m.\u001b[0m\u001b[0mxlabel\u001b[0m\u001b[1;33m(\u001b[0m\u001b[1;34m'Time'\u001b[0m\u001b[1;33m)\u001b[0m\u001b[1;33m\u001b[0m\u001b[0m\n\u001b[0;32m     17\u001b[0m \u001b[0mpylab\u001b[0m\u001b[1;33m.\u001b[0m\u001b[0mylabel\u001b[0m\u001b[1;33m(\u001b[0m\u001b[1;34m'Clean signal'\u001b[0m\u001b[1;33m)\u001b[0m\u001b[1;33m\u001b[0m\u001b[0m\n",
      "\u001b[1;31mNameError\u001b[0m: name 't' is not defined"
     ]
    }
   ],
   "source": [
    "det1 = decomp[-1]\n",
    "sigma = scipy.median(abs(det1))/0.6745\n",
    "thresh = sigma*scipy.sqrt(2*scipy.log(len(f)))\n",
    "print thresh,sigma\n",
    "# ###\n",
    "# \n",
    "decompclean = []\n",
    "decompclean.append(decomp[0])\n",
    "aux = decomp[i]\n",
    "for i in range(1,len(decomp)):\n",
    "    decompclean.append(pywt._thresholding.hard(decomp[i],thresh))\n",
    "fclean = pywt.waverec(decompclean,wav)\n",
    "pylab.figure(5)\n",
    "pylab.subplot(2,2,1)\n",
    "pylab.plot(wvlgth,fclean)\n",
    "pylab.xlabel('Time')\n",
    "pylab.ylabel('Clean signal')\n",
    "pylab.title('Hard thresholding')\n",
    "pylab.subplot(2,2,3)\n",
    "pylab.plot(,f-fclean)\n",
    "pylab.xlabel('Time')\n",
    "pylab.ylabel('Difference')\n",
    "decompclean = []\n",
    "decompclean.append(decomp[0])\n",
    "for i in range(1,len(decomp)):\n",
    "    decompclean.append(pywt._thresholding.soft(decomp[i],thresh))\n",
    "fclean = pywt.waverec(decompclean,wav)\n",
    "pylab.subplot(2,2,2)\n",
    "pylab.plot(t,fclean)\n",
    "pylab.xlabel('Time')\n",
    "pylab.ylabel('Clean signal')\n",
    "pylab.title('Soft thresholding')\n",
    "pylab.subplot(2,2,4)\n",
    "pylab.plot(t,f-fclean)\n",
    "pylab.xlabel('Time')\n",
    "pylab.ylabel('Difference')\n",
    "\n",
    "\n",
    "\n",
    "\n",
    "\n",
    "pylab.show()"
   ]
  },
  {
   "cell_type": "code",
   "execution_count": null,
   "metadata": {
    "collapsed": true
   },
   "outputs": [],
   "source": []
  }
 ],
 "metadata": {
  "kernelspec": {
   "display_name": "Python 2",
   "language": "python",
   "name": "python2"
  },
  "language_info": {
   "codemirror_mode": {
    "name": "ipython",
    "version": 2
   },
   "file_extension": ".py",
   "mimetype": "text/x-python",
   "name": "python",
   "nbconvert_exporter": "python",
   "pygments_lexer": "ipython2",
   "version": "2.7.11"
  }
 },
 "nbformat": 4,
 "nbformat_minor": 0
}
