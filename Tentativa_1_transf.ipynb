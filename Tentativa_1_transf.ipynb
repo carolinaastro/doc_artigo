{
 "cells": [
  {
   "cell_type": "code",
   "execution_count": 1,
   "metadata": {
    "collapsed": true
   },
   "outputs": [],
   "source": [
    "import numpy as np\n",
    "import scipy\n",
    "import pywt\n",
    "data = scipy.loadtxt('/home/usuario/Dropbox/Documents/tRABALHO/Wavelets/Haumea/Haumea.dat')\n"
   ]
  },
  {
   "cell_type": "code",
   "execution_count": 2,
   "metadata": {
    "collapsed": true
   },
   "outputs": [],
   "source": [
    "#xiis= 2.0 * (data[:,0] + 0.375)**0.5\n",
    "y = -0.375+ ((data[:,1]/2)*(data[:,1]/2))"
   ]
  },
  {
   "cell_type": "code",
   "execution_count": 3,
   "metadata": {
    "collapsed": true
   },
   "outputs": [],
   "source": [
    "np.savetxt('transformada_Haumea.txt', np.array([xiis, y]).T, fmt=\"%.6f\", delimiter='    ')"
   ]
  },
  {
   "cell_type": "code",
   "execution_count": 6,
   "metadata": {
    "collapsed": false
   },
   "outputs": [],
   "source": [
    "import numpy as np\n",
    "import scipy\n",
    "data = scipy.loadtxt('/home/carol/Dropbox/Documents/tRABALHO/Wavelets/Haumea/Haumea.dat')\n",
    "y = -0.375+ ((data[:,1]/2)*(data[:,1]/2))\n",
    "\n",
    "import matplotlib.pyplot as plt\n",
    "import pylab\n",
    "pylab.ylim(-0.5,1.83)\n",
    "pylab.xlim(1.45,2.4)\n",
    "pylab.grid(True)\n",
    "figura = plt.plot(data[:,0], y, color = 'red', label='Transformado')\n",
    "tentativa = plt.plot(data[:,0], data[:,1], color ='blue', label = 'Original')\n",
    "pylab.legend(loc='best')\n",
    "plt.savefig('trans.pdf')\n",
    "plt.show()\n"
   ]
  },
  {
   "cell_type": "code",
   "execution_count": 10,
   "metadata": {
    "collapsed": false
   },
   "outputs": [
    {
     "ename": "IndexError",
     "evalue": "list index out of range",
     "output_type": "error",
     "traceback": [
      "\u001b[1;31m---------------------------------------------------------------------------\u001b[0m",
      "\u001b[1;31mIndexError\u001b[0m                                Traceback (most recent call last)",
      "\u001b[1;32m<ipython-input-10-67d15b7c5291>\u001b[0m in \u001b[0;36m<module>\u001b[1;34m()\u001b[0m\n\u001b[0;32m     17\u001b[0m \u001b[0mdecompclean\u001b[0m \u001b[1;33m=\u001b[0m \u001b[1;33m[\u001b[0m\u001b[1;33m]\u001b[0m\u001b[1;33m\u001b[0m\u001b[0m\n\u001b[0;32m     18\u001b[0m \u001b[0mdecompclean\u001b[0m\u001b[1;33m.\u001b[0m\u001b[0mappend\u001b[0m\u001b[1;33m(\u001b[0m\u001b[0mdecomp\u001b[0m\u001b[1;33m[\u001b[0m\u001b[1;36m0\u001b[0m\u001b[1;33m]\u001b[0m\u001b[1;33m)\u001b[0m\u001b[1;33m\u001b[0m\u001b[0m\n\u001b[1;32m---> 19\u001b[1;33m \u001b[0maux\u001b[0m \u001b[1;33m=\u001b[0m \u001b[0mdecomp\u001b[0m\u001b[1;33m[\u001b[0m\u001b[0mlen\u001b[0m\u001b[1;33m(\u001b[0m\u001b[0mdecomp\u001b[0m\u001b[1;33m)\u001b[0m\u001b[1;33m]\u001b[0m\u001b[1;33m\u001b[0m\u001b[0m\n\u001b[0m\u001b[0;32m     20\u001b[0m \u001b[1;32mfor\u001b[0m \u001b[0mi\u001b[0m \u001b[1;32min\u001b[0m \u001b[0mrange\u001b[0m\u001b[1;33m(\u001b[0m\u001b[1;36m1\u001b[0m\u001b[1;33m,\u001b[0m\u001b[0mlen\u001b[0m\u001b[1;33m(\u001b[0m\u001b[0mdecomp\u001b[0m\u001b[1;33m)\u001b[0m\u001b[1;33m)\u001b[0m\u001b[1;33m:\u001b[0m  \u001b[1;31m#limpar os coef de detalhe, a media nao se limpa\u001b[0m\u001b[1;33m\u001b[0m\u001b[0m\n\u001b[0;32m     21\u001b[0m     \u001b[0mdecompclean\u001b[0m\u001b[1;33m.\u001b[0m\u001b[0mappend\u001b[0m\u001b[1;33m(\u001b[0m\u001b[0mpywt\u001b[0m\u001b[1;33m.\u001b[0m\u001b[0mthresholding\u001b[0m\u001b[1;33m.\u001b[0m\u001b[0mhard\u001b[0m\u001b[1;33m(\u001b[0m\u001b[0mdecomp\u001b[0m\u001b[1;33m[\u001b[0m\u001b[0mi\u001b[0m\u001b[1;33m]\u001b[0m\u001b[1;33m,\u001b[0m\u001b[0mthresh\u001b[0m\u001b[1;33m)\u001b[0m\u001b[1;33m)\u001b[0m\u001b[1;33m\u001b[0m\u001b[0m\n",
      "\u001b[1;31mIndexError\u001b[0m: list index out of range"
     ]
    }
   ],
   "source": [
    "import numpy as np\n",
    "import scipy\n",
    "import pywt\n",
    "\n",
    "data = scipy.loadtxt('/home/carol/Dropbox/Documents/tRABALHO/Wavelets/Haumea/Haumea.dat')\n",
    "wvlgth = data[:,0]\n",
    "flux = y\n",
    "\n",
    "#Começando a filtrar com as Wavelets no modo Hard\n",
    "\n",
    "wav = 'coif4'\n",
    "escalas = 4\n",
    "decomp = pywt.wavedec(flux,wav,level=escalas)\n",
    "det1 = decomp[-1] \n",
    "sigma = scipy.median(abs(det1))/0.6745\n",
    "thresh = sigma*scipy.sqrt(2*scipy.log(len(flux)))\n",
    "decompclean = []\n",
    "decompclean.append(decomp[0])\n",
    "aux = decomp[i]\n",
    "for i in range(1,len(decomp)):  #limpar os coef de detalhe, a media nao se limpa\n",
    "    decompclean.append(pywt.thresholding.hard(decomp[i],thresh))\n",
    "fclean = pywt.waverec(decompclean,wav)\n",
    "\n",
    "#plotando\n",
    "pylab.ylim(-0.5,1.83)\n",
    "pylab.xlim(1.45,2.4)\n",
    "pylab.grid(True)\n",
    "pylab.plot(wvlgth,flux, label = 'Haumea')\n",
    "pylab.plot(wvlgth,fclean, label = 'Haumea clean')\n",
    "pylab.plot(wvlgth,flux - fclean, label ='Residuals')\n",
    "pylab.xlabel('$\\lambda (\\mu m)$')\n",
    "pylab.ylabel('Flux')\n",
    "pylab.legend(loc='best')\n",
    "plt.savefig('Hard4-Haumea.pdf')\n",
    "plt.show()"
   ]
  },
  {
   "cell_type": "code",
   "execution_count": null,
   "metadata": {
    "collapsed": false
   },
   "outputs": [],
   "source": []
  },
  {
   "cell_type": "code",
   "execution_count": null,
   "metadata": {
    "collapsed": true
   },
   "outputs": [],
   "source": []
  }
 ],
 "metadata": {
  "kernelspec": {
   "display_name": "Python 2",
   "language": "python",
   "name": "python2"
  },
  "language_info": {
   "codemirror_mode": {
    "name": "ipython",
    "version": 2
   },
   "file_extension": ".py",
   "mimetype": "text/x-python",
   "name": "python",
   "nbconvert_exporter": "python",
   "pygments_lexer": "ipython2",
   "version": "2.7.11"
  }
 },
 "nbformat": 4,
 "nbformat_minor": 0
}
