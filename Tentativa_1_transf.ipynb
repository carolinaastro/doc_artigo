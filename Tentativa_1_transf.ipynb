{
 "cells": [
  {
   "cell_type": "code",
   "execution_count": 1,
   "metadata": {
    "collapsed": true
   },
   "outputs": [],
   "source": [
    "import numpy as np\n",
    "import scipy\n",
    "data = scipy.loadtxt('/home/usuario/Dropbox/Documents/tRABALHO/Wavelets/Haumea/Haumea.dat')\n"
   ]
  },
  {
   "cell_type": "code",
   "execution_count": 2,
   "metadata": {
    "collapsed": true
   },
   "outputs": [],
   "source": [
    "xiis= 2.0 * (data[:,0] + 0.375)**0.5\n",
    "y = -0.375+ ((data[:,1]/2)*(data[:,1]/2))"
   ]
  },
  {
   "cell_type": "code",
   "execution_count": 3,
   "metadata": {
    "collapsed": true
   },
   "outputs": [],
   "source": [
    "np.savetxt('transformada_Haumea.txt', np.array([xiis, y]).T, fmt=\"%.6f\", delimiter='    ')"
   ]
  },
  {
   "cell_type": "code",
   "execution_count": 26,
   "metadata": {
    "collapsed": false
   },
   "outputs": [],
   "source": [
    "import matplotlib.pyplot as plt\n",
    "import pylab\n",
    "pylab.ylim(-0.5,1.83)\n",
    "pylab.xlim(1.45,2.4)\n",
    "pylab.grid(True)\n",
    "figura = plt.plot(data[:,0], y, color = 'red', label='Transformado')\n",
    "tentativa = plt.plot(data[:,0], data[:,1], color ='blue', label = 'Original')\n",
    "pylab.legend(loc='best')\n",
    "plt.savefig('trans.pdf')\n",
    "plt.show()\n"
   ]
  },
  {
   "cell_type": "code",
   "execution_count": null,
   "metadata": {
    "collapsed": false
   },
   "outputs": [],
   "source": []
  },
  {
   "cell_type": "code",
   "execution_count": null,
   "metadata": {
    "collapsed": true
   },
   "outputs": [],
   "source": []
  }
 ],
 "metadata": {
  "kernelspec": {
   "display_name": "Python 2",
   "language": "python",
   "name": "python2"
  },
  "language_info": {
   "codemirror_mode": {
    "name": "ipython",
    "version": 2
   },
   "file_extension": ".py",
   "mimetype": "text/x-python",
   "name": "python",
   "nbconvert_exporter": "python",
   "pygments_lexer": "ipython2",
   "version": "2.7.11"
  }
 },
 "nbformat": 4,
 "nbformat_minor": 0
}
