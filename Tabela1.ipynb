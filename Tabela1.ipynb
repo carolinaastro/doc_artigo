{
 "cells": [
  {
   "cell_type": "markdown",
   "metadata": {},
   "source": [
    "Esse programa vai montar a tabela 1 do artigo Merlin et al 2012."
   ]
  },
  {
   "cell_type": "code",
   "execution_count": 1,
   "metadata": {
    "collapsed": true
   },
   "outputs": [],
   "source": [
    "import scipy\n",
    "import numpy as np"
   ]
  },
  {
   "cell_type": "code",
   "execution_count": 13,
   "metadata": {
    "collapsed": false
   },
   "outputs": [],
   "source": [
    "dados = scipy.loadtxt('/home/usuario/Dropbox/Documents/tRABALHO/doc_artigo/Haumea_filtrado.txt')"
   ]
  },
  {
   "cell_type": "markdown",
   "metadata": {},
   "source": [
    "Cálculo do fluxo em 2,2 $\\mu m$"
   ]
  },
  {
   "cell_type": "code",
   "execution_count": 14,
   "metadata": {
    "collapsed": false
   },
   "outputs": [
    {
     "name": "stdout",
     "output_type": "stream",
     "text": [
      "0.073048\n"
     ]
    }
   ],
   "source": [
    "comp = dados[523:604]\n",
    "d= np.median(comp, axis = 0)\n",
    "fluxocomp = d[1]\n",
    "print fluxocomp"
   ]
  },
  {
   "cell_type": "markdown",
   "metadata": {},
   "source": [
    "Cálculo do fluxo da banda de água em 2,0 $\\mu m$"
   ]
  },
  {
   "cell_type": "code",
   "execution_count": 18,
   "metadata": {
    "collapsed": false
   },
   "outputs": [
    {
     "name": "stdout",
     "output_type": "stream",
     "text": [
      "-0.283474\n"
     ]
    }
   ],
   "source": [
    "agua = dados[1123:1214]\n",
    "b=np.median(agua, axis = 0)\n",
    "fluxoagua= b[1]\n",
    "print fluxoagua"
   ]
  },
  {
   "cell_type": "markdown",
   "metadata": {},
   "source": [
    "Cálculo do fluxo da banda de metanol em 2.27 $\\mu m$\n"
   ]
  },
  {
   "cell_type": "code",
   "execution_count": 19,
   "metadata": {
    "collapsed": false
   },
   "outputs": [
    {
     "name": "stdout",
     "output_type": "stream",
     "text": [
      "-0.042198\n"
     ]
    }
   ],
   "source": [
    "metanol = dados[1663:1754]\n",
    "c= np.median(metanol, axis = 0)\n",
    "fluxometanol= c[1]\n",
    "print fluxometanol"
   ]
  },
  {
   "cell_type": "markdown",
   "metadata": {},
   "source": [
    "Cálculo das porcentagens (D) de água e metanol com os erros"
   ]
  },
  {
   "cell_type": "code",
   "execution_count": 17,
   "metadata": {
    "collapsed": false
   },
   "outputs": [
    {
     "name": "stdout",
     "output_type": "stream",
     "text": [
      "Porcentagem agua 481.846183332 erro 1519.81964946\n",
      "Porcentagem metanol 152.427171175 erro 4129.97793941\n"
     ]
    }
   ],
   "source": [
    "D_agua = (1-(fluxoagua/fluxocomp))*100\n",
    "erro_agua_2= (np.std(agua)/fluxoagua)**2 + (np.std(comp)/fluxocomp)**2 - 2*(np.std(comp)*np.std(agua))/(fluxoagua*fluxocomp)\n",
    "erro_agua = ((erro_agua_2**0.5))*100 \n",
    "print 'Porcentagem agua', D_agua, 'erro', erro_agua\n",
    "\n",
    "\n",
    "D_metanol = (1-(fluxometanol/fluxocomp))*100\n",
    "erro_metanol_2= (np.std(metanol)/fluxometanol)**2 + (np.std(comp)/fluxocomp)**2 - 2*(np.std(comp)*np.std(metanol))/(fluxometanol*fluxocomp)\n",
    "erro_metanol = (((erro_metanol_2)**0.5))*100\n",
    "print 'Porcentagem metanol', D_metanol, 'erro', erro_metanol"
   ]
  },
  {
   "cell_type": "code",
   "execution_count": null,
   "metadata": {
    "collapsed": true
   },
   "outputs": [],
   "source": []
  }
 ],
 "metadata": {
  "kernelspec": {
   "display_name": "Python 2",
   "language": "python",
   "name": "python2"
  },
  "language_info": {
   "codemirror_mode": {
    "name": "ipython",
    "version": 2
   },
   "file_extension": ".py",
   "mimetype": "text/x-python",
   "name": "python",
   "nbconvert_exporter": "python",
   "pygments_lexer": "ipython2",
   "version": "2.7.11"
  }
 },
 "nbformat": 4,
 "nbformat_minor": 0
}
