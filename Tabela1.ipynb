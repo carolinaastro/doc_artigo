{
 "cells": [
  {
   "cell_type": "markdown",
   "metadata": {},
   "source": [
    "Esse programa vai montar a tabela 1 do artigo Merlin et al 2012."
   ]
  },
  {
   "cell_type": "code",
   "execution_count": 1,
   "metadata": {
    "collapsed": true
   },
   "outputs": [],
   "source": [
    "import scipy\n",
    "import numpy as np"
   ]
  },
  {
   "cell_type": "code",
   "execution_count": 4,
   "metadata": {
    "collapsed": false
   },
   "outputs": [],
   "source": [
    "dados = scipy.loadtxt('/home/usuario/Dropbox/Documents/tRABALHO/Wavelets/Haumea/Haumea.dat')"
   ]
  },
  {
   "cell_type": "markdown",
   "metadata": {},
   "source": [
    "Cálculo do fluxo em 2,2 $\\mu m$"
   ]
  },
  {
   "cell_type": "code",
   "execution_count": 5,
   "metadata": {
    "collapsed": false
   },
   "outputs": [
    {
     "name": "stdout",
     "output_type": "stream",
     "text": [
      "1.34814999\n"
     ]
    }
   ],
   "source": [
    "comp = dados[523:604]\n",
    "d= np.median(comp, axis = 0)\n",
    "fluxocomp = d[1]\n",
    "print fluxocomp"
   ]
  },
  {
   "cell_type": "markdown",
   "metadata": {},
   "source": [
    "Cálculo do fluxo da banda de água em 2,0 $\\mu m$"
   ]
  },
  {
   "cell_type": "code",
   "execution_count": 6,
   "metadata": {
    "collapsed": false
   },
   "outputs": [
    {
     "name": "stdout",
     "output_type": "stream",
     "text": [
      "0.614936915\n"
     ]
    }
   ],
   "source": [
    "agua = dados[1123:1214]\n",
    "b=np.median(agua, axis = 0)\n",
    "fluxoagua= b[1]\n",
    "print fluxoagua"
   ]
  },
  {
   "cell_type": "markdown",
   "metadata": {},
   "source": [
    "Cálculo do fluxo da banda de metanol em 2.27 $\\mu m$\n"
   ]
  },
  {
   "cell_type": "code",
   "execution_count": 7,
   "metadata": {
    "collapsed": false
   },
   "outputs": [
    {
     "name": "stdout",
     "output_type": "stream",
     "text": [
      "1.15803997\n"
     ]
    }
   ],
   "source": [
    "metanol = dados[1663:1754]\n",
    "c= np.median(metanol, axis = 0)\n",
    "fluxometanol= c[1]\n",
    "print fluxometanol"
   ]
  },
  {
   "cell_type": "markdown",
   "metadata": {},
   "source": [
    "Cálculo das porcentagens (D) de água e metanol com os erros"
   ]
  },
  {
   "cell_type": "code",
   "execution_count": 9,
   "metadata": {
    "collapsed": false
   },
   "outputs": [
    {
     "name": "stdout",
     "output_type": "stream",
     "text": [
      "Porcentagem agua 54.3866098312 erro 1.8104053798\n",
      "Porcentagem metanol 14.1015481519 erro 2.48650427936\n"
     ]
    }
   ],
   "source": [
    "D_agua = (1-(fluxoagua/fluxocomp))*100\n",
    "erro_agua_2= (np.std(agua)/fluxoagua)**2 + (np.std(comp)/fluxocomp)**2 - 2*(np.std(comp)*np.std(agua))/(fluxoagua*fluxocomp)\n",
    "erro_agua = (((erro_agua_2**0.5))*100 )/D_agua\n",
    "print 'Porcentagem agua', D_agua, 'erro', erro_agua\n",
    "\n",
    "\n",
    "D_metanol = (1-(fluxometanol/fluxocomp))*100\n",
    "erro_metanol_2= (np.std(metanol)/fluxometanol)**2 + (np.std(comp)/fluxocomp)**2 - 2*(np.std(comp)*np.std(metanol))/(fluxometanol*fluxocomp)\n",
    "erro_metanol = ((((erro_metanol_2)**0.5))*100)/D_metanol\n",
    "print 'Porcentagem metanol', D_metanol, 'erro', erro_metanol"
   ]
  },
  {
   "cell_type": "code",
   "execution_count": null,
   "metadata": {
    "collapsed": true
   },
   "outputs": [],
   "source": []
  }
 ],
 "metadata": {
  "kernelspec": {
   "display_name": "Python 2",
   "language": "python",
   "name": "python2"
  },
  "language_info": {
   "codemirror_mode": {
    "name": "ipython",
    "version": 2
   },
   "file_extension": ".py",
   "mimetype": "text/x-python",
   "name": "python",
   "nbconvert_exporter": "python",
   "pygments_lexer": "ipython2",
   "version": "2.7.11"
  }
 },
 "nbformat": 4,
 "nbformat_minor": 0
}
